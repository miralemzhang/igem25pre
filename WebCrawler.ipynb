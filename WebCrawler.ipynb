{
 "cells": [
  {
   "cell_type": "code",
   "execution_count": null,
   "id": "44e897d9-c151-44a2-ad49-8f7c7ef3cfc4",
   "metadata": {},
   "outputs": [],
   "source": [
    "import sys\n",
    "from PyQt5.QtCore import QUrl\n",
    "from PyQt5.QtWidgets import QApplication, QMainWindow, QVBoxLayout, QWidget\n",
    "from PyQt5.QtWebEngineWidgets import QWebEngineView, QWebEnginePage\n",
    "\n",
    "print('''\n",
    "^^ProEpiphary^^ ''')\n",
    "print('''\n",
    "Module: Matthew-WebCrawler 3.5''')\n",
    "print('''\n",
    "analyzing...''')\n",
    "class WebApp(QMainWindow):\n",
    "    def __init__(self):\n",
    "        super().__init__()\n",
    "        self.setWindowTitle(\"Biotinylation Reagent Selection Tool (powered by thermofisher)     last update 30012025 @mlmzzzooo\")\n",
    "        self.setGeometry(100, 100, 1200, 800)\n",
    "\n",
    "        self.browser = QWebEngineView()\n",
    "        self.browser.setUrl(QUrl(\"https://www.thermofisher.cn/cn/zh/home/life-science/protein-biology/protein-labeling-crosslinking/biotinylation/biotinylation-reagent-selection-tool.html\"))\n",
    "\n",
    "        self.browser.page().runJavaScript(\"\"\"\n",
    "            var unwantedElements = document.querySelectorAll('header, footer, .nav, .sidebar, .content-header, .other-unwanted-elements');\n",
    "            unwantedElements.forEach(function(el) {\n",
    "                el.style.display = 'none';\n",
    "            });\n",
    "\n",
    "            var tables = document.querySelectorAll('table');\n",
    "            tables.forEach(function(table, index) {\n",
    "                if (index == 0 || index == 1) {\n",
    "                    table.style.display = 'block';\n",
    "                } else {\n",
    "                    table.style.display = 'none';\n",
    "                }\n",
    "            });\n",
    "\n",
    "            var allElements = document.body.querySelectorAll('*');\n",
    "            allElements.forEach(function(el) {\n",
    "                if (el.tagName !== 'TABLE' && el !== tables[0] && el !== tables[1]) {\n",
    "                    el.style.display = 'none';\n",
    "                }\n",
    "            });\n",
    "        \"\"\")\n",
    "\n",
    "        central_widget = QWidget()\n",
    "        layout = QVBoxLayout()\n",
    "        layout.addWidget(self.browser)\n",
    "\n",
    "        central_widget.setLayout(layout)\n",
    "        self.setCentralWidget(central_widget)\n",
    "\n",
    "app = QApplication(sys.argv)\n",
    "window = WebApp()\n",
    "window.show()\n",
    "sys.exit(app.exec_())"
   ]
  }
 ],
 "metadata": {
  "kernelspec": {
   "display_name": "Python [conda env:base] *",
   "language": "python",
   "name": "conda-base-py"
  },
  "language_info": {
   "codemirror_mode": {
    "name": "ipython",
    "version": 3
   },
   "file_extension": ".py",
   "mimetype": "text/x-python",
   "name": "python",
   "nbconvert_exporter": "python",
   "pygments_lexer": "ipython3",
   "version": "3.12.3"
  }
 },
 "nbformat": 4,
 "nbformat_minor": 5
}
